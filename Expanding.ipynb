{
 "cells": [
  {
   "attachments": {},
   "cell_type": "markdown",
   "metadata": {},
   "source": [
    "# Expanding"
   ]
  },
  {
   "attachments": {},
   "cell_type": "markdown",
   "metadata": {},
   "source": [
    "We can use LLM model as a brainstorming partner.\n",
    "\n",
    "Use LLM to generate a personalized email based on some information."
   ]
  },
  {
   "attachments": {},
   "cell_type": "markdown",
   "metadata": {},
   "source": [
    "The temperature parameter allows you to vary the kind of degree of exploration and variety in the kind of model's responses."
   ]
  },
  {
   "cell_type": "code",
   "execution_count": 1,
   "metadata": {},
   "outputs": [],
   "source": [
    "import openai\n",
    "import os\n",
    "import creds\n",
    "import json\n",
    "\n",
    "from dotenv import load_dotenv, find_dotenv\n",
    "_ = load_dotenv(find_dotenv())\n",
    "\n",
    "openai.api_key = creds.api_key"
   ]
  },
  {
   "attachments": {},
   "cell_type": "markdown",
   "metadata": {},
   "source": [
    "## Functions\n",
    "\n",
    "A function is created in which the specified prompt will be executed."
   ]
  },
  {
   "cell_type": "code",
   "execution_count": 6,
   "metadata": {},
   "outputs": [],
   "source": [
    "def get_completion(promtp, model = \"gpt-3.5-turbo\", temperature = 0):\n",
    "    messages = [{\"role\": \"user\", \"content\": prompt}]\n",
    "    response = openai.ChatCompletion.create(\n",
    "        model = model,\n",
    "        messages = messages\n",
    "    )\n",
    "    return response.choices[0].message[\"content\"]"
   ]
  },
  {
   "attachments": {},
   "cell_type": "markdown",
   "metadata": {},
   "source": [
    "## Customize the automated reply to a customer email"
   ]
  },
  {
   "cell_type": "code",
   "execution_count": 3,
   "metadata": {},
   "outputs": [],
   "source": [
    "# given the sentiment from the lesson on \"inferring\",\n",
    "# and the original customer message, customize the email\n",
    "sentiment = \"negative\"\n",
    "\n",
    "# review for a blender\n",
    "review = f\"\"\"\n",
    "So, they still had the 17 piece system on seasonal sale for around $49 in the month of November, about half off, but for some reason (call it price gouging) \\ \n",
    "around the second week of December the prices all went up to about anywhere from between $70-$89 for the same system. And the 11 piece system went up around $10 or \\ \n",
    "so in price also from the earlier sale price of $29. So it looks okay, but if you look at the base, the part where the blade locks into place doesn’t look as good \\ \n",
    "as in previous editions from a few years ago, but I plan to be very gentle with it (example, I crush very hard items like beans, ice, rice, etc. in the \\ \n",
    "blender first then pulverize them in the serving size I want in the blender then switch to the whipping blade for a finer flour, and use the cross cutting blade \\ \n",
    "first when making smoothies, then use the flat blade if I need them finer/less pulpy). Special tip when making smoothies, finely cut and freeze the fruits and \\ \n",
    "vegetables (if using spinach-lightly stew soften the spinach then freeze until ready for use-and if making sorbet, use a small to medium sized food processor) \\ \n",
    "that you plan to use that way you can avoid adding so much ice if at all-when making your smoothie. After about a year, the motor was making a funny noise. \\ \n",
    "I called customer service but the warranty expired already, so I had to buy another one. FYI: The overall quality has gone done in these types of products, so \\ \n",
    "they are kind of counting on brand recognition and consumer loyalty to maintain sales. Got it in about two days.\n",
    "\"\"\""
   ]
  },
  {
   "cell_type": "code",
   "execution_count": 10,
   "metadata": {},
   "outputs": [
    {
     "name": "stdout",
     "output_type": "stream",
     "text": [
      "Dear Valued Customer,\n",
      "\n",
      "Thank you for taking the time to share your review with us. We appreciate your feedback and are sorry to hear about your experience with the pricing and quality of the 17 piece system you purchased.\n",
      "\n",
      "We apologize for any inconvenience caused by the increase in prices during December. Our team constantly reviews and adjusts prices based on various factors, including market demand and availability. However, we understand your frustration and will make sure to pass along your feedback to the relevant department for further consideration.\n",
      "\n",
      "Regarding the quality of the base and the motor noise issue, we apologize for any disappointment this may have caused. We strive to provide products of the highest quality, and we appreciate your feedback on this matter. If you encounter any issues with our products in the future, please do not hesitate to reach out to our customer service team, who will be more than happy to assist you.\n",
      "\n",
      "We value your loyalty and recognize the importance of maintaining customer satisfaction. Please feel free to contact our customer service department if there is anything we can do to further assist you. We are committed to ensuring your satisfaction with our products and services.\n",
      "\n",
      "Thank you again for sharing your review. We appreciate your support and look forward to serving you better in the future.\n",
      "\n",
      "Best Regards,\n",
      "\n",
      "AI customer agent\n"
     ]
    }
   ],
   "source": [
    "prompt = f\"\"\"\n",
    "You are a customer service AI assistant. \n",
    "Your task is to send an email reply to a valued customer.\n",
    "Given the customer email delimited by ```, Generate a reply to thank the customer for their review. If the sentiment is positive or neutral, thank them for \\ \n",
    "their review.\n",
    "If the sentiment is negative, apologize and suggest that they can reach out to customer service. Make sure to use specific details from the review.\n",
    "Write in a concise and professional tone.\n",
    "Sign the email as `AI customer agent`.\n",
    "Customer review: ```{review}```\n",
    "Review sentiment: {sentiment}\n",
    "\"\"\"\n",
    "response = get_completion(prompt)\n",
    "print(response)"
   ]
  },
  {
   "attachments": {},
   "cell_type": "markdown",
   "metadata": {},
   "source": [
    "**Temperature**\n",
    "\n",
    "The temperature will allow us to change the kind of variety of the model's responses. It's as the degree of exploration or kind of randomness of the model.\n",
    "\n",
    "In application where we want a predictable response, I would recommend using temperature = 0. On the other hand, if you're trying to use the model in a more creative way, where you might want a kind of wider variety of different outputs, you might want to use a high temperature.\n",
    "\n",
    "With temperature differente to 0, we are going to obtain different answer every time.\n",
    "\n"
   ]
  },
  {
   "cell_type": "code",
   "execution_count": 11,
   "metadata": {},
   "outputs": [
    {
     "name": "stdout",
     "output_type": "stream",
     "text": [
      "Dear valued customer,\n",
      "\n",
      "Thank you for taking the time to write a review about your recent purchase. We appreciate your feedback and concerns.\n",
      "\n",
      "We sincerely apologize for any inconvenience you experienced regarding the price increase for the 17 piece system in December. Our pricing is subject to change based on various factors, and we understand that this may have been frustrating for you. We strive to provide fair and competitive pricing for our customers, and we will take your feedback into consideration for future promotions.\n",
      "\n",
      "We also apologize for the issue you encountered with the base of the system. We constantly work to improve the quality of our products, and we appreciate your feedback regarding the locking mechanism. If you continue to experience any issues, we encourage you to reach out to our customer service team for assistance.\n",
      "\n",
      "We understand that your motor developed a noise after a year of use. We apologize for any inconvenience this may have caused. Unfortunately, as the warranty had expired, we recommend contacting our customer service team to explore potential solutions or options for a replacement product.\n",
      "\n",
      "Thank you for bringing these concerns to our attention. We value your loyalty and will continue to strive for excellence in our products. Should you have any further questions or require assistance, please feel free to reach out to our customer service team. \n",
      "\n",
      "Once again, thank you for your review.\n",
      "\n",
      "Best regards,\n",
      "\n",
      "AI customer agent\n"
     ]
    }
   ],
   "source": [
    "prompt = f\"\"\"\n",
    "You are a customer service AI assistant. \n",
    "Your task is to send an email reply to a valued customer.\n",
    "Given the customer email delimited by ```, Generate a reply to thank the customer for their review. If the sentiment is positive or neutral, thank them for \\ \n",
    "their review.\n",
    "If the sentiment is negative, apologize and suggest that they can reach out to customer service. Make sure to use specific details from the review.\n",
    "Write in a concise and professional tone.\n",
    "Sign the email as `AI customer agent`.\n",
    "Customer review: ```{review}```\n",
    "Review sentiment: {sentiment}\n",
    "\"\"\"\n",
    "response = get_completion(prompt, temperature = 0.7)\n",
    "print(response)"
   ]
  },
  {
   "cell_type": "code",
   "execution_count": 12,
   "metadata": {},
   "outputs": [
    {
     "name": "stdout",
     "output_type": "stream",
     "text": [
      "Dear Valued Customer,\n",
      "\n",
      "Thank you for taking the time to provide us with your review. We appreciate your feedback and apologize for any inconvenience you may have experienced. We are sorry to hear about your disappointment regarding the price increase and the decrease in the quality of the blade locking mechanism.\n",
      "\n",
      "We strive to offer competitive prices and maintain the quality of our products. We understand your concerns and would like to invite you to reach out to our customer service department. They will be more than happy to assist you further with any issues you may have encountered.\n",
      "\n",
      "We value your loyalty and appreciate your understanding. If there is anything else we can do to improve your experience, please do not hesitate to let us know.\n",
      "\n",
      "Thank you again for your review.\n",
      "\n",
      "Kind regards,\n",
      "\n",
      "AI Customer Agent\n"
     ]
    }
   ],
   "source": [
    "prompt = f\"\"\"\n",
    "You are a customer service AI assistant. \n",
    "Your task is to send an email reply to a valued customer.\n",
    "Given the customer email delimited by ```, Generate a reply to thank the customer for their review. If the sentiment is positive or neutral, thank them for \\ \n",
    "their review.\n",
    "If the sentiment is negative, apologize and suggest that they can reach out to customer service. Make sure to use specific details from the review.\n",
    "Write in a concise and professional tone.\n",
    "Sign the email as `AI customer agent`.\n",
    "Customer review: ```{review}```\n",
    "Review sentiment: {sentiment}\n",
    "\"\"\"\n",
    "response = get_completion(prompt, temperature = 0.5)\n",
    "print(response)"
   ]
  }
 ],
 "metadata": {
  "kernelspec": {
   "display_name": "chatGPT_environment",
   "language": "python",
   "name": "python3"
  },
  "language_info": {
   "codemirror_mode": {
    "name": "ipython",
    "version": 3
   },
   "file_extension": ".py",
   "mimetype": "text/x-python",
   "name": "python",
   "nbconvert_exporter": "python",
   "pygments_lexer": "ipython3",
   "version": "3.10.10"
  },
  "orig_nbformat": 4
 },
 "nbformat": 4,
 "nbformat_minor": 2
}
